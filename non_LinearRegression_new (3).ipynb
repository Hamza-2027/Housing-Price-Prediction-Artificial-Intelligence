{
  "cells": [
    {
      "cell_type": "code",
      "execution_count": 1,
      "metadata": {
        "colab": {
          "base_uri": "https://localhost:8080/"
        },
        "id": "160CTqugaDvb",
        "outputId": "6072bd41-c624-478d-f20d-b296b82d27e7"
      },
      "outputs": [
        {
          "output_type": "stream",
          "name": "stdout",
          "text": [
            "Mounted at /content/drive\n"
          ]
        }
      ],
      "source": [
        "from google.colab import drive\n",
        "drive.mount('/content/drive')"
      ]
    },
    {
      "cell_type": "code",
      "execution_count": 2,
      "metadata": {
        "id": "cxTvw9Ye7nFw"
      },
      "outputs": [],
      "source": [
        "\n",
        "# imports\n",
        "from keras.models import Sequential\n",
        "from keras.layers import Dense\n",
        "from keras.layers import Dropout\n",
        "from sklearn.metrics import r2_score\n",
        "import matplotlib.pyplot as plt\n",
        "import numpy\n",
        "from keras.optimizers import Adam\n",
        "import keras\n",
        "from matplotlib import pyplot\n",
        "from keras.callbacks import EarlyStopping\n",
        "import pandas as pd\n",
        "from sklearn.preprocessing import LabelEncoder\n",
        "from sklearn.model_selection import train_test_split\n",
        "from sklearn.metrics import mean_squared_error, mean_absolute_error"
      ]
    },
    {
      "cell_type": "code",
      "execution_count": 3,
      "metadata": {
        "id": "UIxcMffw8IMt"
      },
      "outputs": [],
      "source": [
        "# Read data from csv file for training and validation data\n",
        "TrainingSet = numpy.genfromtxt(\"/content/drive/MyDrive/Peshawar/Peshawar Circle Small drop.csv\", delimiter=\",\", skip_header=True)\n",
        "ValidationSet = numpy.genfromtxt(\"/content/drive/MyDrive/Peshawar/New Mardan test.csv\", delimiter=\",\", skip_header=True)\n",
        "\n",
        "# Split into input (X) and output (Y) variables\n",
        "X1 = TrainingSet[:,0:6]\n",
        "Y1 = TrainingSet[:,6]\n",
        "\n",
        "X2 = ValidationSet[:,0:6]\n",
        "Y2 = ValidationSet[:,6]"
      ]
    },
    {
      "cell_type": "code",
      "execution_count": 5,
      "metadata": {
        "colab": {
          "base_uri": "https://localhost:8080/"
        },
        "id": "uZKumtoR8IJV",
        "outputId": "58b7b14d-44f7-4a27-b1c7-61ea856ea33d"
      },
      "outputs": [
        {
          "output_type": "stream",
          "name": "stderr",
          "text": [
            "/usr/local/lib/python3.10/dist-packages/keras/optimizers/legacy/adam.py:117: UserWarning: The `lr` argument is deprecated, use `learning_rate` instead.\n",
            "  super().__init__(name, **kwargs)\n"
          ]
        },
        {
          "output_type": "stream",
          "name": "stdout",
          "text": [
            "Epoch 1/200\n",
            "157/157 - 2s - loss: 110174.1953 - val_loss: 31.2896 - 2s/epoch - 13ms/step\n",
            "Epoch 2/200\n",
            "157/157 - 1s - loss: 1.7697 - val_loss: 31.2549 - 709ms/epoch - 5ms/step\n",
            "Epoch 3/200\n",
            "157/157 - 1s - loss: 1.7655 - val_loss: 31.2321 - 636ms/epoch - 4ms/step\n",
            "Epoch 4/200\n",
            "157/157 - 1s - loss: 1.7616 - val_loss: 31.2192 - 698ms/epoch - 4ms/step\n",
            "Epoch 5/200\n",
            "157/157 - 1s - loss: 1.7576 - val_loss: 31.1277 - 655ms/epoch - 4ms/step\n",
            "Epoch 6/200\n",
            "157/157 - 1s - loss: 1.7505 - val_loss: 31.0998 - 653ms/epoch - 4ms/step\n",
            "Epoch 7/200\n",
            "157/157 - 1s - loss: 1.7456 - val_loss: 31.0480 - 712ms/epoch - 5ms/step\n",
            "Epoch 8/200\n",
            "157/157 - 1s - loss: 1.7411 - val_loss: 30.9329 - 654ms/epoch - 4ms/step\n",
            "Epoch 9/200\n",
            "157/157 - 1s - loss: 1.7320 - val_loss: 30.8441 - 668ms/epoch - 4ms/step\n",
            "Epoch 10/200\n",
            "157/157 - 1s - loss: 1.7220 - val_loss: 30.7571 - 649ms/epoch - 4ms/step\n",
            "Epoch 11/200\n",
            "157/157 - 1s - loss: 1.7208 - val_loss: 30.6963 - 684ms/epoch - 4ms/step\n",
            "Epoch 12/200\n",
            "157/157 - 1s - loss: 1.7107 - val_loss: 30.5419 - 656ms/epoch - 4ms/step\n",
            "Epoch 13/200\n",
            "157/157 - 1s - loss: 1.6986 - val_loss: 30.4675 - 632ms/epoch - 4ms/step\n",
            "Epoch 14/200\n",
            "157/157 - 1s - loss: 1.6826 - val_loss: 30.3026 - 650ms/epoch - 4ms/step\n",
            "Epoch 15/200\n",
            "157/157 - 1s - loss: 1.6700 - val_loss: 30.1486 - 617ms/epoch - 4ms/step\n",
            "Epoch 16/200\n",
            "157/157 - 2s - loss: 1.6664 - val_loss: 30.0452 - 2s/epoch - 11ms/step\n",
            "Epoch 17/200\n",
            "157/157 - 1s - loss: 1.6479 - val_loss: 29.8487 - 1s/epoch - 7ms/step\n",
            "Epoch 18/200\n",
            "157/157 - 1s - loss: 1.6311 - val_loss: 29.7336 - 1s/epoch - 8ms/step\n",
            "Epoch 19/200\n",
            "157/157 - 1s - loss: 1.6185 - val_loss: 29.4836 - 737ms/epoch - 5ms/step\n",
            "Epoch 20/200\n",
            "157/157 - 1s - loss: 1.6054 - val_loss: 29.3308 - 611ms/epoch - 4ms/step\n",
            "Epoch 21/200\n",
            "157/157 - 1s - loss: 1.5978 - val_loss: 29.0878 - 672ms/epoch - 4ms/step\n",
            "Epoch 22/200\n",
            "157/157 - 1s - loss: 1.5743 - val_loss: 28.8652 - 629ms/epoch - 4ms/step\n",
            "Epoch 23/200\n",
            "157/157 - 1s - loss: 1.5715 - val_loss: 28.6466 - 624ms/epoch - 4ms/step\n",
            "Epoch 24/200\n",
            "157/157 - 1s - loss: 1.5453 - val_loss: 28.4005 - 629ms/epoch - 4ms/step\n",
            "Epoch 25/200\n",
            "157/157 - 1s - loss: 1.5308 - val_loss: 28.2097 - 589ms/epoch - 4ms/step\n",
            "Epoch 26/200\n",
            "157/157 - 1s - loss: 1.5182 - val_loss: 27.9811 - 680ms/epoch - 4ms/step\n",
            "Epoch 27/200\n",
            "157/157 - 1s - loss: 1.5051 - val_loss: 27.6271 - 644ms/epoch - 4ms/step\n",
            "Epoch 28/200\n",
            "157/157 - 1s - loss: 1.4786 - val_loss: 27.5021 - 665ms/epoch - 4ms/step\n",
            "Epoch 29/200\n",
            "157/157 - 1s - loss: 1.5000 - val_loss: 27.0650 - 657ms/epoch - 4ms/step\n",
            "Epoch 30/200\n",
            "157/157 - 1s - loss: 1.4434 - val_loss: 26.7165 - 608ms/epoch - 4ms/step\n",
            "Epoch 31/200\n",
            "157/157 - 1s - loss: 1.4445 - val_loss: 26.4486 - 602ms/epoch - 4ms/step\n",
            "Epoch 32/200\n",
            "157/157 - 1s - loss: 1.4132 - val_loss: 26.0881 - 624ms/epoch - 4ms/step\n",
            "Epoch 33/200\n",
            "157/157 - 1s - loss: 1.4221 - val_loss: 25.6987 - 630ms/epoch - 4ms/step\n",
            "Epoch 34/200\n",
            "157/157 - 1s - loss: 1.3827 - val_loss: 25.6258 - 786ms/epoch - 5ms/step\n",
            "Epoch 35/200\n",
            "157/157 - 1s - loss: 1.3630 - val_loss: 25.0108 - 944ms/epoch - 6ms/step\n",
            "Epoch 36/200\n",
            "157/157 - 1s - loss: 1.3529 - val_loss: 24.6304 - 1s/epoch - 8ms/step\n",
            "Epoch 37/200\n",
            "157/157 - 2s - loss: 1.3926 - val_loss: 24.4080 - 2s/epoch - 12ms/step\n",
            "Epoch 38/200\n",
            "157/157 - 1s - loss: 1.3504 - val_loss: 23.9463 - 671ms/epoch - 4ms/step\n",
            "Epoch 39/200\n",
            "157/157 - 1s - loss: 1.3039 - val_loss: 23.5143 - 664ms/epoch - 4ms/step\n",
            "Epoch 40/200\n",
            "157/157 - 1s - loss: 1.3235 - val_loss: 23.1525 - 655ms/epoch - 4ms/step\n",
            "Epoch 41/200\n",
            "157/157 - 1s - loss: 1.2699 - val_loss: 22.9915 - 667ms/epoch - 4ms/step\n",
            "Epoch 42/200\n",
            "157/157 - 1s - loss: 1.2961 - val_loss: 22.8531 - 623ms/epoch - 4ms/step\n",
            "Epoch 43/200\n",
            "157/157 - 1s - loss: 1.2825 - val_loss: 21.9486 - 652ms/epoch - 4ms/step\n",
            "Epoch 44/200\n",
            "157/157 - 1s - loss: 1.2226 - val_loss: 21.7532 - 612ms/epoch - 4ms/step\n",
            "Epoch 45/200\n",
            "157/157 - 1s - loss: 1.3060 - val_loss: 21.1564 - 612ms/epoch - 4ms/step\n",
            "Epoch 46/200\n",
            "157/157 - 1s - loss: 1.1751 - val_loss: 20.6083 - 700ms/epoch - 4ms/step\n",
            "Epoch 47/200\n",
            "157/157 - 1s - loss: 1.2133 - val_loss: 20.4556 - 645ms/epoch - 4ms/step\n",
            "Epoch 48/200\n",
            "157/157 - 1s - loss: 1.2420 - val_loss: 19.8760 - 673ms/epoch - 4ms/step\n",
            "Epoch 49/200\n",
            "157/157 - 1s - loss: 1.2445 - val_loss: 20.6683 - 658ms/epoch - 4ms/step\n",
            "Epoch 50/200\n",
            "157/157 - 1s - loss: 1.4928 - val_loss: 18.8999 - 597ms/epoch - 4ms/step\n",
            "Epoch 51/200\n",
            "157/157 - 1s - loss: 1.2476 - val_loss: 19.3280 - 640ms/epoch - 4ms/step\n",
            "Epoch 52/200\n",
            "157/157 - 1s - loss: 1.3045 - val_loss: 18.8235 - 639ms/epoch - 4ms/step\n",
            "Epoch 53/200\n",
            "157/157 - 1s - loss: 1.4278 - val_loss: 17.6156 - 1s/epoch - 7ms/step\n",
            "Epoch 54/200\n",
            "157/157 - 1s - loss: 1.1676 - val_loss: 17.4651 - 923ms/epoch - 6ms/step\n",
            "Epoch 55/200\n",
            "157/157 - 1s - loss: 2.2067 - val_loss: 16.8027 - 948ms/epoch - 6ms/step\n",
            "Epoch 56/200\n",
            "157/157 - 1s - loss: 4.0236 - val_loss: 17.6209 - 1s/epoch - 7ms/step\n",
            "Epoch 57/200\n",
            "157/157 - 1s - loss: 2.7082 - val_loss: 17.2418 - 639ms/epoch - 4ms/step\n",
            "Epoch 58/200\n",
            "157/157 - 1s - loss: 4.1878 - val_loss: 17.2611 - 625ms/epoch - 4ms/step\n",
            "Epoch 59/200\n",
            "157/157 - 1s - loss: 2.4988 - val_loss: 17.5275 - 625ms/epoch - 4ms/step\n",
            "Epoch 60/200\n",
            "157/157 - 1s - loss: 4.4835 - val_loss: 21.4428 - 629ms/epoch - 4ms/step\n",
            "Epoch 61/200\n",
            "157/157 - 1s - loss: 3.4526 - val_loss: 14.7888 - 639ms/epoch - 4ms/step\n",
            "Epoch 62/200\n",
            "157/157 - 1s - loss: 4.1472 - val_loss: 14.1846 - 654ms/epoch - 4ms/step\n",
            "Epoch 63/200\n",
            "157/157 - 1s - loss: 3.9221 - val_loss: 20.1399 - 591ms/epoch - 4ms/step\n",
            "Epoch 64/200\n",
            "157/157 - 1s - loss: 4.6371 - val_loss: 16.4685 - 608ms/epoch - 4ms/step\n",
            "Epoch 65/200\n",
            "157/157 - 1s - loss: 2.3818 - val_loss: 12.9118 - 632ms/epoch - 4ms/step\n",
            "Epoch 66/200\n",
            "157/157 - 1s - loss: 4.3803 - val_loss: 12.8821 - 637ms/epoch - 4ms/step\n",
            "Epoch 67/200\n",
            "157/157 - 1s - loss: 3.8415 - val_loss: 16.5068 - 608ms/epoch - 4ms/step\n",
            "Epoch 68/200\n",
            "157/157 - 1s - loss: 3.8603 - val_loss: 12.0774 - 630ms/epoch - 4ms/step\n",
            "Epoch 69/200\n",
            "157/157 - 1s - loss: 2.9110 - val_loss: 11.8852 - 623ms/epoch - 4ms/step\n",
            "Epoch 70/200\n",
            "157/157 - 1s - loss: 3.4855 - val_loss: 13.6558 - 637ms/epoch - 4ms/step\n",
            "Epoch 71/200\n",
            "157/157 - 1s - loss: 3.6955 - val_loss: 13.7021 - 659ms/epoch - 4ms/step\n",
            "Epoch 72/200\n",
            "157/157 - 1s - loss: 4.3446 - val_loss: 10.7530 - 626ms/epoch - 4ms/step\n",
            "Epoch 73/200\n",
            "157/157 - 1s - loss: 4.2366 - val_loss: 10.7880 - 936ms/epoch - 6ms/step\n",
            "Epoch 74/200\n",
            "157/157 - 1s - loss: 2.0865 - val_loss: 25.2210 - 979ms/epoch - 6ms/step\n",
            "Epoch 75/200\n",
            "157/157 - 1s - loss: 4.5836 - val_loss: 20.8911 - 1s/epoch - 8ms/step\n",
            "Epoch 76/200\n",
            "157/157 - 1s - loss: 3.2275 - val_loss: 9.4556 - 1s/epoch - 8ms/step\n",
            "Epoch 77/200\n",
            "157/157 - 1s - loss: 2.6823 - val_loss: 9.4284 - 738ms/epoch - 5ms/step\n",
            "Epoch 78/200\n",
            "157/157 - 1s - loss: 4.1063 - val_loss: 8.7501 - 713ms/epoch - 5ms/step\n",
            "Epoch 79/200\n",
            "157/157 - 1s - loss: 2.4007 - val_loss: 15.7629 - 653ms/epoch - 4ms/step\n",
            "Epoch 80/200\n",
            "157/157 - 1s - loss: 3.7649 - val_loss: 8.3292 - 642ms/epoch - 4ms/step\n",
            "Epoch 81/200\n",
            "157/157 - 1s - loss: 3.5994 - val_loss: 7.9429 - 684ms/epoch - 4ms/step\n",
            "Epoch 82/200\n",
            "157/157 - 1s - loss: 3.3110 - val_loss: 7.8097 - 665ms/epoch - 4ms/step\n",
            "Epoch 83/200\n",
            "157/157 - 1s - loss: 4.1118 - val_loss: 7.4879 - 668ms/epoch - 4ms/step\n",
            "Epoch 84/200\n",
            "157/157 - 1s - loss: 2.0809 - val_loss: 7.2607 - 659ms/epoch - 4ms/step\n",
            "Epoch 85/200\n",
            "157/157 - 1s - loss: 4.1578 - val_loss: 7.3616 - 668ms/epoch - 4ms/step\n",
            "Epoch 86/200\n",
            "157/157 - 1s - loss: 2.7613 - val_loss: 6.7862 - 610ms/epoch - 4ms/step\n",
            "Epoch 87/200\n",
            "157/157 - 1s - loss: 4.0511 - val_loss: 7.7635 - 661ms/epoch - 4ms/step\n",
            "Epoch 88/200\n",
            "157/157 - 1s - loss: 4.4493 - val_loss: 6.4304 - 646ms/epoch - 4ms/step\n",
            "Epoch 89/200\n",
            "157/157 - 1s - loss: 2.1165 - val_loss: 6.0156 - 998ms/epoch - 6ms/step\n",
            "Epoch 90/200\n",
            "157/157 - 1s - loss: 3.7666 - val_loss: 9.1556 - 670ms/epoch - 4ms/step\n",
            "Epoch 91/200\n",
            "157/157 - 1s - loss: 2.5380 - val_loss: 5.5983 - 1s/epoch - 7ms/step\n",
            "Epoch 92/200\n",
            "157/157 - 1s - loss: 3.2581 - val_loss: 8.0995 - 1s/epoch - 8ms/step\n",
            "Epoch 93/200\n",
            "157/157 - 1s - loss: 3.9358 - val_loss: 5.9534 - 1s/epoch - 7ms/step\n",
            "Epoch 94/200\n",
            "157/157 - 1s - loss: 3.3589 - val_loss: 7.2186 - 808ms/epoch - 5ms/step\n",
            "Epoch 95/200\n",
            "157/157 - 1s - loss: 3.2333 - val_loss: 6.4655 - 695ms/epoch - 4ms/step\n",
            "Epoch 96/200\n",
            "157/157 - 1s - loss: 2.1196 - val_loss: 23.5195 - 669ms/epoch - 4ms/step\n",
            "Epoch 97/200\n",
            "157/157 - 1s - loss: 4.1086 - val_loss: 5.5533 - 1s/epoch - 6ms/step\n",
            "Epoch 98/200\n",
            "157/157 - 1s - loss: 2.1626 - val_loss: 7.2730 - 625ms/epoch - 4ms/step\n",
            "Epoch 99/200\n",
            "157/157 - 1s - loss: 2.8709 - val_loss: 12.3507 - 638ms/epoch - 4ms/step\n",
            "Epoch 100/200\n",
            "157/157 - 1s - loss: 5.1666 - val_loss: 5.4594 - 668ms/epoch - 4ms/step\n",
            "Epoch 101/200\n",
            "157/157 - 1s - loss: 1.5935 - val_loss: 5.2277 - 668ms/epoch - 4ms/step\n",
            "Epoch 102/200\n",
            "157/157 - 1s - loss: 3.2909 - val_loss: 4.1331 - 672ms/epoch - 4ms/step\n",
            "Epoch 103/200\n",
            "157/157 - 1s - loss: 3.8392 - val_loss: 3.8784 - 608ms/epoch - 4ms/step\n",
            "Epoch 104/200\n",
            "157/157 - 1s - loss: 2.1478 - val_loss: 3.3759 - 642ms/epoch - 4ms/step\n",
            "Epoch 105/200\n",
            "157/157 - 1s - loss: 3.9013 - val_loss: 6.5992 - 637ms/epoch - 4ms/step\n",
            "Epoch 106/200\n",
            "157/157 - 1s - loss: 2.7642 - val_loss: 4.4088 - 662ms/epoch - 4ms/step\n",
            "Epoch 107/200\n",
            "157/157 - 1s - loss: 3.4601 - val_loss: 2.8999 - 1s/epoch - 7ms/step\n",
            "Epoch 108/200\n",
            "157/157 - 1s - loss: 2.3279 - val_loss: 3.1315 - 1s/epoch - 6ms/step\n",
            "Epoch 109/200\n",
            "157/157 - 1s - loss: 2.6855 - val_loss: 4.7755 - 1s/epoch - 8ms/step\n",
            "Epoch 110/200\n",
            "157/157 - 1s - loss: 4.4665 - val_loss: 2.8366 - 1s/epoch - 7ms/step\n",
            "Epoch 111/200\n",
            "157/157 - 1s - loss: 2.6149 - val_loss: 2.7409 - 1s/epoch - 7ms/step\n",
            "Epoch 112/200\n",
            "157/157 - 1s - loss: 2.2573 - val_loss: 3.1989 - 686ms/epoch - 4ms/step\n",
            "Epoch 113/200\n",
            "157/157 - 1s - loss: 3.4815 - val_loss: 2.3304 - 656ms/epoch - 4ms/step\n",
            "Epoch 114/200\n",
            "157/157 - 1s - loss: 2.6231 - val_loss: 2.1888 - 714ms/epoch - 5ms/step\n",
            "Epoch 115/200\n",
            "157/157 - 1s - loss: 3.7264 - val_loss: 3.5788 - 699ms/epoch - 4ms/step\n",
            "Epoch 116/200\n",
            "157/157 - 1s - loss: 3.3753 - val_loss: 6.1593 - 653ms/epoch - 4ms/step\n",
            "Epoch 117/200\n",
            "157/157 - 1s - loss: 2.6657 - val_loss: 7.4778 - 655ms/epoch - 4ms/step\n",
            "Epoch 118/200\n",
            "157/157 - 1s - loss: 1.6151 - val_loss: 3.1443 - 676ms/epoch - 4ms/step\n",
            "Epoch 119/200\n",
            "157/157 - 1s - loss: 3.5552 - val_loss: 2.4025 - 648ms/epoch - 4ms/step\n",
            "Epoch 120/200\n",
            "157/157 - 1s - loss: 2.7964 - val_loss: 2.1254 - 620ms/epoch - 4ms/step\n",
            "Epoch 121/200\n",
            "157/157 - 1s - loss: 3.8137 - val_loss: 1.5443 - 698ms/epoch - 4ms/step\n",
            "Epoch 122/200\n",
            "157/157 - 1s - loss: 2.2075 - val_loss: 1.5813 - 647ms/epoch - 4ms/step\n",
            "Epoch 123/200\n",
            "157/157 - 1s - loss: 3.5232 - val_loss: 1.4081 - 648ms/epoch - 4ms/step\n",
            "Epoch 124/200\n",
            "157/157 - 1s - loss: 3.3438 - val_loss: 3.1339 - 659ms/epoch - 4ms/step\n",
            "Epoch 125/200\n",
            "157/157 - 1s - loss: 2.4968 - val_loss: 2.2012 - 654ms/epoch - 4ms/step\n",
            "Epoch 126/200\n",
            "157/157 - 1s - loss: 2.8340 - val_loss: 2.5742 - 720ms/epoch - 5ms/step\n",
            "Epoch 127/200\n",
            "157/157 - 1s - loss: 2.7069 - val_loss: 1.4105 - 1s/epoch - 8ms/step\n",
            "Epoch 128/200\n",
            "157/157 - 1s - loss: 2.2456 - val_loss: 4.8716 - 1s/epoch - 6ms/step\n",
            "Epoch 129/200\n",
            "157/157 - 1s - loss: 3.1896 - val_loss: 7.0292 - 1s/epoch - 8ms/step\n",
            "Epoch 130/200\n",
            "157/157 - 1s - loss: 3.4131 - val_loss: 0.9118 - 1s/epoch - 9ms/step\n",
            "Epoch 131/200\n",
            "157/157 - 1s - loss: 3.4525 - val_loss: 7.9858 - 653ms/epoch - 4ms/step\n",
            "Epoch 132/200\n",
            "157/157 - 1s - loss: 2.3970 - val_loss: 0.9208 - 648ms/epoch - 4ms/step\n",
            "Epoch 133/200\n",
            "157/157 - 1s - loss: 3.3376 - val_loss: 0.7774 - 673ms/epoch - 4ms/step\n",
            "Epoch 134/200\n",
            "157/157 - 1s - loss: 2.0168 - val_loss: 5.6558 - 665ms/epoch - 4ms/step\n",
            "Epoch 135/200\n",
            "157/157 - 1s - loss: 2.9150 - val_loss: 0.9746 - 637ms/epoch - 4ms/step\n",
            "Epoch 136/200\n",
            "157/157 - 1s - loss: 4.5136 - val_loss: 4.1006 - 669ms/epoch - 4ms/step\n",
            "Epoch 137/200\n",
            "157/157 - 1s - loss: 1.2787 - val_loss: 2.4193 - 664ms/epoch - 4ms/step\n",
            "Epoch 138/200\n",
            "157/157 - 1s - loss: 3.7967 - val_loss: 0.5765 - 649ms/epoch - 4ms/step\n",
            "Epoch 139/200\n",
            "157/157 - 1s - loss: 1.6318 - val_loss: 0.6824 - 968ms/epoch - 6ms/step\n",
            "Epoch 140/200\n",
            "157/157 - 1s - loss: 3.4751 - val_loss: 1.1770 - 676ms/epoch - 4ms/step\n",
            "Epoch 141/200\n",
            "157/157 - 1s - loss: 2.1796 - val_loss: 0.5870 - 666ms/epoch - 4ms/step\n",
            "Epoch 142/200\n",
            "157/157 - 1s - loss: 3.5132 - val_loss: 17.0310 - 637ms/epoch - 4ms/step\n",
            "Epoch 143/200\n",
            "157/157 - 1s - loss: 2.5415 - val_loss: 0.4343 - 649ms/epoch - 4ms/step\n",
            "Epoch 144/200\n",
            "157/157 - 1s - loss: 3.2213 - val_loss: 5.3047 - 942ms/epoch - 6ms/step\n",
            "Epoch 145/200\n",
            "157/157 - 1s - loss: 2.5664 - val_loss: 1.0292 - 1s/epoch - 7ms/step\n",
            "Epoch 146/200\n",
            "157/157 - 1s - loss: 2.8333 - val_loss: 7.4625 - 1s/epoch - 8ms/step\n",
            "Epoch 147/200\n",
            "157/157 - 1s - loss: 3.0677 - val_loss: 0.3609 - 1s/epoch - 8ms/step\n",
            "Epoch 148/200\n",
            "157/157 - 1s - loss: 3.2232 - val_loss: 3.1404 - 601ms/epoch - 4ms/step\n",
            "Epoch 149/200\n",
            "157/157 - 1s - loss: 3.0398 - val_loss: 0.4353 - 655ms/epoch - 4ms/step\n",
            "Epoch 150/200\n",
            "157/157 - 1s - loss: 2.3661 - val_loss: 0.7189 - 650ms/epoch - 4ms/step\n",
            "Epoch 151/200\n",
            "157/157 - 1s - loss: 2.5833 - val_loss: 0.6190 - 576ms/epoch - 4ms/step\n",
            "Epoch 152/200\n",
            "157/157 - 1s - loss: 3.1870 - val_loss: 0.2656 - 645ms/epoch - 4ms/step\n",
            "Epoch 153/200\n",
            "157/157 - 1s - loss: 4.0188 - val_loss: 0.2886 - 639ms/epoch - 4ms/step\n",
            "Epoch 154/200\n",
            "157/157 - 1s - loss: 1.4976 - val_loss: 0.8298 - 657ms/epoch - 4ms/step\n",
            "Epoch 155/200\n",
            "157/157 - 1s - loss: 3.3098 - val_loss: 0.9867 - 692ms/epoch - 4ms/step\n",
            "Epoch 156/200\n",
            "157/157 - 1s - loss: 1.9666 - val_loss: 0.3988 - 1s/epoch - 6ms/step\n",
            "Epoch 157/200\n",
            "157/157 - 1s - loss: 3.8270 - val_loss: 0.6248 - 636ms/epoch - 4ms/step\n",
            "Epoch 158/200\n",
            "157/157 - 1s - loss: 2.1395 - val_loss: 0.2019 - 604ms/epoch - 4ms/step\n",
            "Epoch 159/200\n",
            "157/157 - 1s - loss: 3.9125 - val_loss: 3.1716 - 674ms/epoch - 4ms/step\n",
            "Epoch 160/200\n",
            "157/157 - 1s - loss: 1.5444 - val_loss: 1.4898 - 650ms/epoch - 4ms/step\n",
            "Epoch 161/200\n",
            "157/157 - 1s - loss: 3.7277 - val_loss: 0.6467 - 665ms/epoch - 4ms/step\n",
            "Epoch 162/200\n",
            "157/157 - 1s - loss: 2.5852 - val_loss: 0.1617 - 1s/epoch - 7ms/step\n",
            "Epoch 163/200\n",
            "157/157 - 1s - loss: 3.4787 - val_loss: 0.1494 - 1s/epoch - 8ms/step\n",
            "Epoch 164/200\n",
            "157/157 - 1s - loss: 2.0981 - val_loss: 0.1603 - 1s/epoch - 8ms/step\n",
            "Epoch 165/200\n",
            "157/157 - 1s - loss: 3.6340 - val_loss: 0.1470 - 1s/epoch - 8ms/step\n",
            "Epoch 166/200\n",
            "157/157 - 1s - loss: 1.9870 - val_loss: 0.4075 - 653ms/epoch - 4ms/step\n",
            "Epoch 167/200\n",
            "157/157 - 1s - loss: 2.3751 - val_loss: 0.2494 - 659ms/epoch - 4ms/step\n",
            "Epoch 168/200\n",
            "157/157 - 1s - loss: 3.2634 - val_loss: 0.1221 - 972ms/epoch - 6ms/step\n",
            "Epoch 169/200\n",
            "157/157 - 1s - loss: 2.6835 - val_loss: 0.2100 - 632ms/epoch - 4ms/step\n",
            "Epoch 170/200\n",
            "157/157 - 1s - loss: 3.9382 - val_loss: 9.6926 - 666ms/epoch - 4ms/step\n",
            "Epoch 171/200\n",
            "157/157 - 1s - loss: 2.4590 - val_loss: 0.4132 - 627ms/epoch - 4ms/step\n",
            "Epoch 172/200\n",
            "157/157 - 1s - loss: 2.2107 - val_loss: 0.1165 - 619ms/epoch - 4ms/step\n",
            "Epoch 173/200\n",
            "157/157 - 1s - loss: 3.5228 - val_loss: 0.1040 - 602ms/epoch - 4ms/step\n",
            "Epoch 174/200\n",
            "157/157 - 1s - loss: 2.1429 - val_loss: 1.3375 - 637ms/epoch - 4ms/step\n",
            "Epoch 175/200\n",
            "157/157 - 1s - loss: 3.5698 - val_loss: 0.3529 - 630ms/epoch - 4ms/step\n",
            "Epoch 176/200\n",
            "157/157 - 1s - loss: 2.6923 - val_loss: 0.1472 - 643ms/epoch - 4ms/step\n",
            "Epoch 177/200\n",
            "157/157 - 1s - loss: 2.2363 - val_loss: 0.1093 - 663ms/epoch - 4ms/step\n",
            "Epoch 178/200\n",
            "157/157 - 1s - loss: 2.8456 - val_loss: 0.6418 - 609ms/epoch - 4ms/step\n",
            "Epoch 179/200\n",
            "157/157 - 1s - loss: 3.7640 - val_loss: 0.7355 - 648ms/epoch - 4ms/step\n",
            "Epoch 180/200\n",
            "157/157 - 1s - loss: 1.6764 - val_loss: 0.4164 - 780ms/epoch - 5ms/step\n",
            "Epoch 181/200\n",
            "157/157 - 1s - loss: 3.6590 - val_loss: 40.1888 - 978ms/epoch - 6ms/step\n",
            "Epoch 182/200\n",
            "157/157 - 1s - loss: 3.2977 - val_loss: 11.0967 - 966ms/epoch - 6ms/step\n",
            "Epoch 183/200\n",
            "157/157 - 1s - loss: 3.2909 - val_loss: 2.0079 - 1s/epoch - 8ms/step\n",
            "Epoch 184/200\n",
            "157/157 - 1s - loss: 2.3347 - val_loss: 7.7250 - 854ms/epoch - 5ms/step\n",
            "Epoch 185/200\n",
            "157/157 - 1s - loss: 2.1141 - val_loss: 0.2819 - 642ms/epoch - 4ms/step\n",
            "Epoch 186/200\n",
            "157/157 - 1s - loss: 2.2567 - val_loss: 0.1755 - 635ms/epoch - 4ms/step\n",
            "Epoch 187/200\n",
            "157/157 - 1s - loss: 4.2086 - val_loss: 0.7744 - 679ms/epoch - 4ms/step\n",
            "Epoch 188/200\n",
            "157/157 - 1s - loss: 2.6568 - val_loss: 0.1180 - 636ms/epoch - 4ms/step\n",
            "Epoch 189/200\n",
            "157/157 - 1s - loss: 1.8967 - val_loss: 0.1181 - 1s/epoch - 6ms/step\n",
            "Epoch 190/200\n",
            "157/157 - 1s - loss: 2.6564 - val_loss: 0.0827 - 668ms/epoch - 4ms/step\n",
            "Epoch 191/200\n",
            "157/157 - 1s - loss: 4.6817 - val_loss: 11.7585 - 638ms/epoch - 4ms/step\n",
            "Epoch 192/200\n",
            "157/157 - 1s - loss: 0.5253 - val_loss: 5.3891 - 623ms/epoch - 4ms/step\n",
            "Epoch 193/200\n",
            "157/157 - 1s - loss: 4.7531 - val_loss: 2.4044 - 672ms/epoch - 4ms/step\n",
            "Epoch 194/200\n",
            "157/157 - 1s - loss: 2.1555 - val_loss: 0.5529 - 659ms/epoch - 4ms/step\n",
            "Epoch 195/200\n",
            "157/157 - 1s - loss: 2.3007 - val_loss: 0.0600 - 658ms/epoch - 4ms/step\n",
            "Epoch 196/200\n",
            "157/157 - 1s - loss: 2.5559 - val_loss: 0.0668 - 654ms/epoch - 4ms/step\n",
            "Epoch 197/200\n",
            "157/157 - 1s - loss: 3.2987 - val_loss: 0.0839 - 630ms/epoch - 4ms/step\n",
            "Epoch 198/200\n",
            "157/157 - 1s - loss: 2.2977 - val_loss: 0.0647 - 614ms/epoch - 4ms/step\n",
            "Epoch 199/200\n",
            "157/157 - 1s - loss: 3.0569 - val_loss: 0.0580 - 1s/epoch - 7ms/step\n",
            "Epoch 200/200\n",
            "157/157 - 1s - loss: 2.9834 - val_loss: 0.0562 - 1s/epoch - 8ms/step\n",
            "625/625 [==============================] - 1s 2ms/step\n",
            "820/820 [==============================] - 2s 2ms/step\n"
          ]
        }
      ],
      "source": [
        "\n",
        "# from keras.optimizers.optimizer_v2.adamax import Adamax\n",
        "# from keras.optimizers.optimizer_v2 import adam\n",
        "\n",
        "# Create model\n",
        "model = Sequential()\n",
        "model.add(Dense(128, activation=\"relu\", input_dim=6))\n",
        "model.add(Dense(32, activation=\"relu\"))\n",
        "model.add(Dense(8, activation=\"relu\"))\n",
        "# Since the regression is performed, a Dense layer containing a single neuron with a linear activation function.\n",
        "# Typically ReLu-based activation are used but since it is performed regression, it is needed a linear activation.\n",
        "model.add(Dense(1, activation=\"linear\"))\n",
        "\n",
        "# Compile model: The model is initialized with the Adam optimizer and then it is compiled.\n",
        "model.compile(loss='mean_squared_error', optimizer=Adam(lr=0.0001, decay=0.0001 / 200))\n",
        "\n",
        "# Patient early stopping\n",
        "es = EarlyStopping(monitor='val_loss', mode='min', verbose=2, patience=20)\n",
        "\n",
        "# Fit the model\n",
        "history = model.fit(X1, Y1, validation_data=(X2, Y2), epochs=100, batch_size=128, verbose=2, callbacks=[es])\n",
        "\n",
        "# Calculate predictions\n",
        "PredTestSet = model.predict(X1)\n",
        "PredValSet = model.predict(X2)\n",
        "\n",
        "# Save predictions\n",
        "numpy.savetxt(\"trainresults.csv\", PredTestSet, delimiter=\",\")\n",
        "numpy.savetxt(\"valresults.csv\", PredValSet, delimiter=\",\")"
      ]
    },
    {
      "cell_type": "code",
      "execution_count": null,
      "metadata": {
        "colab": {
          "base_uri": "https://localhost:8080/",
          "height": 295
        },
        "id": "zBFUH_kf8Cm_",
        "outputId": "a33129e6-bb4d-42a3-ee81-fbeb0cdb7ac2"
      },
      "outputs": [
        {
          "output_type": "display_data",
          "data": {
            "text/plain": [
              "<Figure size 432x288 with 1 Axes>"
            ],
            "image/png": "[encoded data removed]"
          },
          "metadata": {
            "needs_background": "light"
          }
        }
      ],
      "source": [
        "# Plot training history\n",
        "pyplot.plot(history.history['loss'], label='train')\n",
        "pyplot.plot(history.history['val_loss'], label='test')\n",
        "pyplot.legend()\n",
        "plt.title('Training History'),\n",
        "plt.xlabel('Epoch'),\n",
        "plt.ylabel('Validation Loss')\n",
        "pyplot.show()"
      ]
    },
    {
      "cell_type": "code",
      "execution_count": null,
      "metadata": {
        "colab": {
          "base_uri": "https://localhost:8080/",
          "height": 312
        },
        "id": "tILdaZqw8Cjn",
        "outputId": "98854b3a-a940-43e2-f2cc-796122718b53"
      },
      "outputs": [
        {
          "output_type": "stream",
          "name": "stdout",
          "text": [
            "Training Set R-Square= 0.9362169501796104\n"
          ]
        },
        {
          "output_type": "display_data",
          "data": {
            "text/plain": [
              "<Figure size 432x288 with 1 Axes>"
            ],
            "image/png": "[encoded data removed]"
          },
          "metadata": {
            "needs_background": "light"
          }
        }
      ],
      "source": [
        "# Plot actual vs prediction for training set\n",
        "TestResults = numpy.genfromtxt(\"trainresults.csv\", delimiter=\",\")\n",
        "plt.plot(Y1,TestResults,'ro')\n",
        "plt.title('Training Set')\n",
        "plt.xlabel('Actual')\n",
        "plt.ylabel('Predicted')\n",
        "\n",
        "# Compute R-Square value for training set\n",
        "TestR2Value = r2_score(Y1,TestResults)\n",
        "print(\"Training Set R-Square=\", TestR2Value)"
      ]
    },
    {
      "cell_type": "code",
      "execution_count": null,
      "metadata": {
        "colab": {
          "base_uri": "https://localhost:8080/",
          "height": 312
        },
        "id": "GFuycliP8Cg0",
        "outputId": "e49692ec-2def-489a-8857-b60b9bf0c1ce"
      },
      "outputs": [
        {
          "output_type": "stream",
          "name": "stdout",
          "text": [
            "Validation Set R-Square= 0.9966254659272381\n"
          ]
        },
        {
          "output_type": "display_data",
          "data": {
            "text/plain": [
              "<Figure size 432x288 with 1 Axes>"
            ],
            "image/png": "[encoded data removed]"
          },
          "metadata": {
            "needs_background": "light"
          }
        }
      ],
      "source": [
        "# Plot actual vs prediction for validation set\n",
        "ValResults = numpy.genfromtxt(\"valresults.csv\", delimiter=\",\")\n",
        "plt.plot(Y2,ValResults,'ro')\n",
        "plt.title('Validation Set')\n",
        "plt.xlabel('Actual')\n",
        "plt.ylabel('Predicted')\n",
        "\n",
        "# Compute R-Square value for validation set\n",
        "ValR2Value = r2_score(Y2,ValResults)\n",
        "print(\"Validation Set R-Square=\",ValR2Value)"
      ]
    },
    {
      "cell_type": "code",
      "execution_count": null,
      "metadata": {
        "id": "aXo0Qf5t8CeI"
      },
      "outputs": [],
      "source": []
    },
    {
      "cell_type": "code",
      "execution_count": null,
      "metadata": {
        "id": "Ncwo3-d18Ca7"
      },
      "outputs": [],
      "source": []
    },
    {
      "cell_type": "code",
      "execution_count": null,
      "metadata": {
        "id": "PnOK407l8CYJ"
      },
      "outputs": [],
      "source": []
    },
    {
      "cell_type": "code",
      "execution_count": null,
      "metadata": {
        "id": "h94mdd2G8CVS"
      },
      "outputs": [],
      "source": []
    },
    {
      "cell_type": "code",
      "execution_count": null,
      "metadata": {
        "id": "wqgdef_28CSY"
      },
      "outputs": [],
      "source": []
    },
    {
      "cell_type": "code",
      "execution_count": null,
      "metadata": {
        "id": "IKwyhy7J8CPt"
      },
      "outputs": [],
      "source": []
    },
    {
      "cell_type": "code",
      "execution_count": null,
      "metadata": {
        "id": "cXy-yyTQ8CNB"
      },
      "outputs": [],
      "source": []
    }
  ],
  "metadata": {
    "colab": {
      "provenance": []
    },
    "kernelspec": {
      "display_name": "Python 3",
      "name": "python3"
    },
    "language_info": {
      "name": "python"
    }
  },
  "nbformat": 4,
  "nbformat_minor": 0
}